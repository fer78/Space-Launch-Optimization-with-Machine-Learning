{
  "cells": [
    {
      "cell_type": "markdown",
      "metadata": {
        "id": "view-in-github",
        "colab_type": "text"
      },
      "source": [
        "<a href=\"https://colab.research.google.com/github/fer78/Space-Launch-Optimization-with-Machine-Learning/blob/main/Configuracion_inicial.ipynb\" target=\"_parent\"><img src=\"https://colab.research.google.com/assets/colab-badge.svg\" alt=\"Open In Colab\"/></a>"
      ]
    },
    {
      "cell_type": "markdown",
      "source": [
        "# Configuracion Inicial en Google Colab"
      ],
      "metadata": {
        "id": "hHgNaiwtkms0"
      }
    },
    {
      "cell_type": "code",
      "source": [
        "# from google.colab import drive\n",
        "# drive.mount('/content/drive')"
      ],
      "metadata": {
        "id": "MVvQYJ3Ait1b",
        "outputId": "b042aba3-3762-4e22-89df-d0c9cf29acd0",
        "colab": {
          "base_uri": "https://localhost:8080/"
        }
      },
      "execution_count": 7,
      "outputs": [
        {
          "output_type": "stream",
          "name": "stdout",
          "text": [
            "Drive already mounted at /content/drive; to attempt to forcibly remount, call drive.mount(\"/content/drive\", force_remount=True).\n"
          ]
        }
      ]
    },
    {
      "cell_type": "code",
      "source": [
        "\"\"\"\n",
        "import os\n",
        "\n",
        "path = '/content/drive/MyDrive/DATA ANALISYS/Ciencia de Datos de IBM/Capstone Project'\n",
        "os.makedirs(path, exist_ok=True)\n",
        "%cd $path\n",
        "\"\"\""
      ],
      "metadata": {
        "id": "BHmd83GFjIWN",
        "outputId": "3e6d0e4c-4e58-475a-a807-78e87046351b",
        "colab": {
          "base_uri": "https://localhost:8080/"
        }
      },
      "execution_count": 8,
      "outputs": [
        {
          "output_type": "stream",
          "name": "stdout",
          "text": [
            "/content/drive/MyDrive/DATA ANALISYS/Ciencia de Datos de IBM/Capstone Project\n"
          ]
        }
      ]
    },
    {
      "cell_type": "code",
      "source": [
        "#!git clone https://github.com/fer78/Space-Launch-Optimization-with-Machine-Learning.git"
      ],
      "metadata": {
        "id": "gW_9bk5VjrtN",
        "outputId": "64a4deea-a6ca-415b-9fac-e3f01ba7ff73",
        "colab": {
          "base_uri": "https://localhost:8080/"
        }
      },
      "execution_count": 9,
      "outputs": [
        {
          "output_type": "stream",
          "name": "stdout",
          "text": [
            "fatal: destination path 'Space-Launch-Optimization-with-Machine-Learning' already exists and is not an empty directory.\n"
          ]
        }
      ]
    }
  ],
  "metadata": {
    "colab": {
      "name": "Te damos la bienvenida a Colaboratory",
      "provenance": [],
      "include_colab_link": true
    },
    "kernelspec": {
      "display_name": "Python 3",
      "name": "python3"
    }
  },
  "nbformat": 4,
  "nbformat_minor": 0
}